{
 "cells": [
  {
   "cell_type": "code",
   "execution_count": 1,
   "id": "610962c4-5ce4-4ca4-b995-d15000084b5a",
   "metadata": {},
   "outputs": [],
   "source": [
    "from stats_utils import *\n",
    "import scipy.stats as stats"
   ]
  },
  {
   "cell_type": "code",
   "execution_count": 2,
   "id": "0b740b46-8a10-40fa-9018-1a79723f6d03",
   "metadata": {},
   "outputs": [],
   "source": [
    "d_bar = 850  # Example mean difference\n",
    "n = 42       # Example sample size\n",
    "s_d = 1123   # Example standard deviation of differences\n",
    "a = .05\n",
    "df = n - 1"
   ]
  },
  {
   "cell_type": "code",
   "execution_count": 3,
   "id": "6b5a81c9-8378-4a42-b693-c69d9f59f8a7",
   "metadata": {},
   "outputs": [
    {
     "name": "stdout",
     "output_type": "stream",
     "text": [
      "T-value: 4.9053\n",
      "T-value (conf): 2.0195\n",
      "P-value: 0.0000\n",
      "P-value (conf): 0.0500\n"
     ]
    }
   ],
   "source": [
    "t_value = calculate_t_value(d_bar, n, s_d)\n",
    "print(f\"T-value: {t_value:.4f}\")\n",
    "\n",
    "# Calculate the t-value for a two-tailed test\n",
    "t_value_conf = stats.t.ppf(1-a/2, df)\n",
    "print(f\"T-value (conf): {t_value_conf:.4f}\")\n",
    "\n",
    "p_value = stats.t.sf(abs(t_value), df=n-1)\n",
    "print(f\"P-value: {p_value:.4f}\")\n",
    "\n",
    "print(f\"P-value (conf): {a:.4f}\")"
   ]
  },
  {
   "cell_type": "markdown",
   "id": "92588a92-9a9e-457a-ad55-d89d53ed62e0",
   "metadata": {},
   "source": [
    "### Test using probability values"
   ]
  },
  {
   "cell_type": "code",
   "execution_count": 4,
   "id": "c33aa300-44ae-4e17-ac5a-4d53a8a89e3e",
   "metadata": {},
   "outputs": [
    {
     "name": "stdout",
     "output_type": "stream",
     "text": [
      "Using alpha 0.050 and probability value 0.000, we reject the null hypothesis.\n"
     ]
    }
   ],
   "source": [
    "perform_hyp_test_probability_verbose(a, p_value)"
   ]
  },
  {
   "cell_type": "markdown",
   "id": "5ac92010-0e54-4272-a4b9-5f0b477735fc",
   "metadata": {},
   "source": [
    "### Test using t values"
   ]
  },
  {
   "cell_type": "code",
   "execution_count": 5,
   "id": "5b9ce471-58ad-4dad-86b1-33ba6f2abccd",
   "metadata": {},
   "outputs": [
    {
     "name": "stdout",
     "output_type": "stream",
     "text": [
      "Using the t values, alpha 2.020 and t value 4.905, we reject the null hypothesis.\n"
     ]
    }
   ],
   "source": [
    "perform_hyp_test_t_verbose(t_value_conf, t_value)"
   ]
  },
  {
   "cell_type": "code",
   "execution_count": null,
   "id": "ea23e041-bd5f-424c-a48c-34659a4409a9",
   "metadata": {
    "jupyter": {
     "source_hidden": true
    }
   },
   "outputs": [],
   "source": []
  }
 ],
 "metadata": {
  "kernelspec": {
   "display_name": "Python 3 (ipykernel)",
   "language": "python",
   "name": "python3"
  },
  "language_info": {
   "codemirror_mode": {
    "name": "ipython",
    "version": 3
   },
   "file_extension": ".py",
   "mimetype": "text/x-python",
   "name": "python",
   "nbconvert_exporter": "python",
   "pygments_lexer": "ipython3",
   "version": "3.11.2"
  }
 },
 "nbformat": 4,
 "nbformat_minor": 5
}
