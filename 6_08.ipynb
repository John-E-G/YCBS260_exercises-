{
 "cells": [
  {
   "cell_type": "code",
   "execution_count": 19,
   "id": "15674436-7082-41b4-8dbb-904b90d69dca",
   "metadata": {},
   "outputs": [],
   "source": [
    "import numpy as np\n",
    "import math"
   ]
  },
  {
   "cell_type": "code",
   "execution_count": 6,
   "id": "ea5ec9af-dd2c-4c1c-a57f-69b224f1d160",
   "metadata": {},
   "outputs": [],
   "source": [
    "sample = (.81, -.05, .41, 1.32, 2.37, .3, 1.46, .92, .21, .97, .52, .12)"
   ]
  },
  {
   "cell_type": "code",
   "execution_count": 14,
   "id": "49eb92e7-b844-4f08-be62-6d050ce3a169",
   "metadata": {},
   "outputs": [],
   "source": [
    "alpha = 0.05               # significance level = 5%\n",
    "n = len(sample)               # sample sizes\n",
    "s2 = np.var(sample, ddof=1)   # sample variance\n",
    "df = n - 1                 # degrees of freedom"
   ]
  },
  {
   "cell_type": "code",
   "execution_count": 34,
   "id": "c7293b50-c827-466a-976d-f86e6447c43e",
   "metadata": {},
   "outputs": [
    {
     "data": {
      "text/plain": [
       "np.float64(0.474818181818182)"
      ]
     },
     "execution_count": 34,
     "metadata": {},
     "output_type": "execute_result"
    }
   ],
   "source": [
    "s2"
   ]
  },
  {
   "cell_type": "code",
   "execution_count": 15,
   "id": "8db20a03-a59b-4df5-8cc6-b32e485591f7",
   "metadata": {},
   "outputs": [],
   "source": [
    "upper = (n - 1) * s2 / stats.chi2.ppf(alpha / 2, df)\n",
    "lower = (n - 1) * s2 / stats.chi2.ppf(1 - alpha / 2, df)"
   ]
  },
  {
   "cell_type": "code",
   "execution_count": 33,
   "id": "471287c0-cc33-42ab-9dda-3b0c9e7a3ea3",
   "metadata": {},
   "outputs": [
    {
     "data": {
      "text/plain": [
       "(0.2383, 1.3688)"
      ]
     },
     "execution_count": 33,
     "metadata": {},
     "output_type": "execute_result"
    }
   ],
   "source": [
    "(round(float(lower),4), round(float(upper),4))"
   ]
  },
  {
   "cell_type": "code",
   "execution_count": 30,
   "id": "b5a23e93-493d-40f8-9487-468cf69c5400",
   "metadata": {},
   "outputs": [
    {
     "data": {
      "text/plain": [
       "(0.4881, 1.17)"
      ]
     },
     "execution_count": 30,
     "metadata": {},
     "output_type": "execute_result"
    }
   ],
   "source": [
    "(round(math.sqrt(lower),4), round(math.sqrt(upper),4))"
   ]
  },
  {
   "cell_type": "code",
   "execution_count": null,
   "id": "34addc2e-a73f-4adf-b216-3b44cedc7e10",
   "metadata": {},
   "outputs": [],
   "source": []
  }
 ],
 "metadata": {
  "kernelspec": {
   "display_name": "Python 3 (ipykernel)",
   "language": "python",
   "name": "python3"
  },
  "language_info": {
   "codemirror_mode": {
    "name": "ipython",
    "version": 3
   },
   "file_extension": ".py",
   "mimetype": "text/x-python",
   "name": "python",
   "nbconvert_exporter": "python",
   "pygments_lexer": "ipython3",
   "version": "3.11.2"
  }
 },
 "nbformat": 4,
 "nbformat_minor": 5
}
