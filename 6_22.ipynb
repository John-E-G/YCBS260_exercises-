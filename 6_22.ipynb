{
 "cells": [
  {
   "cell_type": "code",
   "execution_count": 1,
   "id": "5650dbdc-60b8-4ca1-a698-d3d50aa095cf",
   "metadata": {},
   "outputs": [],
   "source": [
    "from scipy import stats"
   ]
  },
  {
   "cell_type": "code",
   "execution_count": 2,
   "id": "6ed81b07-2233-44e3-a2d9-e1e18ad782e8",
   "metadata": {},
   "outputs": [],
   "source": [
    "n1, n2 = 32, 16"
   ]
  },
  {
   "cell_type": "code",
   "execution_count": 3,
   "id": "d307bd1a-2104-4795-a4f3-11de059681cc",
   "metadata": {},
   "outputs": [],
   "source": [
    "df1, df2 = 15, 15"
   ]
  },
  {
   "cell_type": "code",
   "execution_count": 4,
   "id": "f57b73a9-c938-4afb-9ef0-a5eb2f280ae6",
   "metadata": {},
   "outputs": [],
   "source": [
    "variance1 = n1 ** 2"
   ]
  },
  {
   "cell_type": "code",
   "execution_count": 5,
   "id": "8e2d3a86-5f01-43a2-88c5-151109b91e3c",
   "metadata": {},
   "outputs": [],
   "source": [
    "variance2 = n2 ** 2"
   ]
  },
  {
   "cell_type": "code",
   "execution_count": 6,
   "id": "5d9372de-1913-4903-b184-cfcffe5d9966",
   "metadata": {},
   "outputs": [],
   "source": [
    "f_value = variance1 / variance2"
   ]
  },
  {
   "cell_type": "markdown",
   "id": "d5b782f2-4fe1-4338-8548-dd9dcbf77048",
   "metadata": {},
   "source": [
    "$F=\\dfrac{S_1 ^2}{S_2^2}$"
   ]
  },
  {
   "cell_type": "code",
   "execution_count": 7,
   "id": "cd6596d7-e6ae-4f47-8aac-67690c5b27f1",
   "metadata": {},
   "outputs": [
    {
     "data": {
      "text/plain": [
       "4.0"
      ]
     },
     "execution_count": 7,
     "metadata": {},
     "output_type": "execute_result"
    }
   ],
   "source": [
    "f_value"
   ]
  },
  {
   "cell_type": "code",
   "execution_count": 8,
   "id": "dd12fa1d-2d9f-4d4c-9182-9750f20e2065",
   "metadata": {},
   "outputs": [],
   "source": [
    "a = .05"
   ]
  },
  {
   "cell_type": "code",
   "execution_count": 9,
   "id": "d75c98b4-25b3-4c03-ba13-9b742f40002c",
   "metadata": {},
   "outputs": [],
   "source": [
    "p_value = 1- stats.f.cdf(f_value, df1, df2)"
   ]
  },
  {
   "cell_type": "code",
   "execution_count": 10,
   "id": "dd18e60d-d0ae-4c20-8ba5-8f3f9ead692b",
   "metadata": {},
   "outputs": [
    {
     "data": {
      "text/plain": [
       "np.float64(0.0054447735291773824)"
      ]
     },
     "execution_count": 10,
     "metadata": {},
     "output_type": "execute_result"
    }
   ],
   "source": [
    "p_value"
   ]
  },
  {
   "cell_type": "code",
   "execution_count": 11,
   "id": "77c2b306-fa09-4a60-a6df-dbf603af9cf4",
   "metadata": {},
   "outputs": [
    {
     "data": {
      "text/plain": [
       "np.True_"
      ]
     },
     "execution_count": 11,
     "metadata": {},
     "output_type": "execute_result"
    }
   ],
   "source": [
    "p_value < a"
   ]
  },
  {
   "cell_type": "markdown",
   "id": "3d4ab729-6714-40e2-bb67-3264ba9f706b",
   "metadata": {},
   "source": [
    "Reject $H_a$"
   ]
  },
  {
   "cell_type": "code",
   "execution_count": 18,
   "id": "7a405e19-a743-4794-b75a-00413e67eaaf",
   "metadata": {},
   "outputs": [],
   "source": [
    "p_val_crit = stats.f.ppf(.95, df1, df2)"
   ]
  },
  {
   "cell_type": "code",
   "execution_count": 19,
   "id": "28dd8a78-7dbb-4649-9301-fedfdcf7d379",
   "metadata": {},
   "outputs": [
    {
     "data": {
      "text/plain": [
       "np.True_"
      ]
     },
     "execution_count": 19,
     "metadata": {},
     "output_type": "execute_result"
    }
   ],
   "source": [
    "p_val_crit > p_value"
   ]
  },
  {
   "cell_type": "code",
   "execution_count": null,
   "id": "d73bb263-b299-49df-b099-012585864d9e",
   "metadata": {},
   "outputs": [],
   "source": []
  }
 ],
 "metadata": {
  "kernelspec": {
   "display_name": "Python 3 (ipykernel)",
   "language": "python",
   "name": "python3"
  },
  "language_info": {
   "codemirror_mode": {
    "name": "ipython",
    "version": 3
   },
   "file_extension": ".py",
   "mimetype": "text/x-python",
   "name": "python",
   "nbconvert_exporter": "python",
   "pygments_lexer": "ipython3",
   "version": "3.11.2"
  }
 },
 "nbformat": 4,
 "nbformat_minor": 5
}
