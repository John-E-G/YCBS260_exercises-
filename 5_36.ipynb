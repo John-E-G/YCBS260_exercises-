{
 "cells": [
  {
   "cell_type": "code",
   "execution_count": 1,
   "id": "778c41c8-6dd3-450b-b05f-db5112d166d2",
   "metadata": {},
   "outputs": [],
   "source": [
    "import numpy as np\n",
    "from statsmodels.stats.proportion import proportions_ztest\n",
    "from statsmodels.stats.proportion import confint_proportions_2indep"
   ]
  },
  {
   "cell_type": "code",
   "execution_count": 2,
   "id": "0ea8a2df-34e1-4fde-9013-4df335af1756",
   "metadata": {},
   "outputs": [],
   "source": [
    "count = np.array([1470, 1458])"
   ]
  },
  {
   "cell_type": "code",
   "execution_count": 3,
   "id": "69179cd7-7c9a-482c-a7bd-a88802f21f36",
   "metadata": {},
   "outputs": [],
   "source": [
    "nobs = np.array([1750, 1800])"
   ]
  },
  {
   "cell_type": "code",
   "execution_count": 4,
   "id": "facb5081-e0a5-497f-b56e-858ffdc4535a",
   "metadata": {},
   "outputs": [],
   "source": [
    "a = .05"
   ]
  },
  {
   "cell_type": "code",
   "execution_count": 5,
   "id": "27929be1-aaa9-4999-93d6-2a72683297e5",
   "metadata": {},
   "outputs": [],
   "source": [
    "stat, pval = proportions_ztest(count, nobs)"
   ]
  },
  {
   "cell_type": "code",
   "execution_count": 6,
   "id": "13b1b162-360a-40e4-ad6c-f68f4f86d70e",
   "metadata": {},
   "outputs": [
    {
     "data": {
      "text/plain": [
       "np.float64(0.018734653761133174)"
      ]
     },
     "execution_count": 6,
     "metadata": {},
     "output_type": "execute_result"
    }
   ],
   "source": [
    "pval"
   ]
  },
  {
   "cell_type": "code",
   "execution_count": 7,
   "id": "24e43184-8e29-4870-b431-5da2eb7d44b8",
   "metadata": {},
   "outputs": [
    {
     "data": {
      "text/plain": [
       "np.float64(2.3507691333737615)"
      ]
     },
     "execution_count": 7,
     "metadata": {},
     "output_type": "execute_result"
    }
   ],
   "source": [
    "stat"
   ]
  },
  {
   "cell_type": "code",
   "execution_count": 8,
   "id": "31fc829c-0083-4f57-9220-6300a7b0a392",
   "metadata": {},
   "outputs": [
    {
     "data": {
      "text/plain": [
       "np.True_"
      ]
     },
     "execution_count": 8,
     "metadata": {},
     "output_type": "execute_result"
    }
   ],
   "source": [
    "pval < a"
   ]
  },
  {
   "cell_type": "code",
   "execution_count": 9,
   "id": "b468e0f6-45b1-40a6-aaa4-86958bf7007d",
   "metadata": {},
   "outputs": [],
   "source": [
    "# True = Reject null hyp."
   ]
  },
  {
   "cell_type": "code",
   "execution_count": 18,
   "id": "4c2b16c9-8155-4ab0-8799-2c4e18cfab33",
   "metadata": {},
   "outputs": [],
   "source": [
    "ci_low, ci_upp = confint_proportions_2indep(1470, 1750, 1458, 1800, method=None, compare='diff', alpha=0.05, correction=True)"
   ]
  },
  {
   "cell_type": "code",
   "execution_count": 19,
   "id": "6f0279f3-5b65-4cd1-8b2a-80323c956a4e",
   "metadata": {},
   "outputs": [
    {
     "data": {
      "text/plain": [
       "(0.004984738061998419, 0.05494883921483515)"
      ]
     },
     "execution_count": 19,
     "metadata": {},
     "output_type": "execute_result"
    }
   ],
   "source": [
    "float(ci_low), float(ci_upp)"
   ]
  },
  {
   "cell_type": "code",
   "execution_count": null,
   "id": "06cd31c3-7cb2-4e2c-bdd0-ec247ceb2311",
   "metadata": {},
   "outputs": [],
   "source": []
  }
 ],
 "metadata": {
  "kernelspec": {
   "display_name": "Python 3 (ipykernel)",
   "language": "python",
   "name": "python3"
  },
  "language_info": {
   "codemirror_mode": {
    "name": "ipython",
    "version": 3
   },
   "file_extension": ".py",
   "mimetype": "text/x-python",
   "name": "python",
   "nbconvert_exporter": "python",
   "pygments_lexer": "ipython3",
   "version": "3.11.2"
  }
 },
 "nbformat": 4,
 "nbformat_minor": 5
}
