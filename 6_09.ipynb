{
 "cells": [
  {
   "cell_type": "code",
   "execution_count": 8,
   "id": "b1603adb-5f63-4e29-a42c-6722df61ba43",
   "metadata": {},
   "outputs": [],
   "source": [
    "from scipy import stats"
   ]
  },
  {
   "cell_type": "code",
   "execution_count": 1,
   "id": "d39f635e-dea9-440e-af9c-33f305224aad",
   "metadata": {},
   "outputs": [],
   "source": [
    "n = 30"
   ]
  },
  {
   "cell_type": "code",
   "execution_count": 2,
   "id": "dd6d65b3-2330-4a2c-bcb5-3cd5a9b41d3e",
   "metadata": {},
   "outputs": [],
   "source": [
    "a = .05"
   ]
  },
  {
   "cell_type": "code",
   "execution_count": 3,
   "id": "c7cf362f-212d-414a-8477-9ca158c83b5d",
   "metadata": {},
   "outputs": [],
   "source": [
    "sample_variance = .0005"
   ]
  },
  {
   "cell_type": "code",
   "execution_count": 4,
   "id": "8f8fe9f1-d249-47e4-9792-59dc1b7b8954",
   "metadata": {},
   "outputs": [],
   "source": [
    "pop_variance = .0004"
   ]
  },
  {
   "cell_type": "code",
   "execution_count": 6,
   "id": "cc8c45cf-fc08-4d65-9c09-52757618dcc2",
   "metadata": {},
   "outputs": [],
   "source": [
    "chi2 = 29 * sample_variance / pop_variance"
   ]
  },
  {
   "cell_type": "code",
   "execution_count": 7,
   "id": "8b755f6c-ff5f-4393-a8cc-34bf15f519ff",
   "metadata": {},
   "outputs": [
    {
     "data": {
      "text/plain": [
       "36.25"
      ]
     },
     "execution_count": 7,
     "metadata": {},
     "output_type": "execute_result"
    }
   ],
   "source": [
    "chi2"
   ]
  },
  {
   "cell_type": "code",
   "execution_count": 21,
   "id": "0ef6d4ef-e2d9-4c41-a6d9-049f3bc1d3fd",
   "metadata": {},
   "outputs": [],
   "source": [
    "p_value = 1-stats.chi2.cdf(chi2, 29)"
   ]
  },
  {
   "cell_type": "code",
   "execution_count": 25,
   "id": "799c7b32-e7aa-47c0-b5fb-89b2cf9eec13",
   "metadata": {},
   "outputs": [
    {
     "data": {
      "text/plain": [
       "0.1664"
      ]
     },
     "execution_count": 25,
     "metadata": {},
     "output_type": "execute_result"
    }
   ],
   "source": [
    "round(float(p_value), 4)"
   ]
  },
  {
   "cell_type": "code",
   "execution_count": 26,
   "id": "47ed0f0e-401c-4cf2-a6e1-0a9bc298de92",
   "metadata": {},
   "outputs": [
    {
     "data": {
      "text/plain": [
       "False"
      ]
     },
     "execution_count": 26,
     "metadata": {},
     "output_type": "execute_result"
    }
   ],
   "source": [
    "round(float(p_value), 4) < a"
   ]
  },
  {
   "cell_type": "code",
   "execution_count": 27,
   "id": "9ac66760-18fd-4ae7-927a-541c2c57c544",
   "metadata": {},
   "outputs": [],
   "source": [
    "# Reject the alternate hypotheis (Accept null hypothesis)"
   ]
  },
  {
   "cell_type": "code",
   "execution_count": null,
   "id": "9183e6cf-a068-4e80-861b-4cc03cbadfe7",
   "metadata": {},
   "outputs": [],
   "source": []
  }
 ],
 "metadata": {
  "kernelspec": {
   "display_name": "Python 3 (ipykernel)",
   "language": "python",
   "name": "python3"
  },
  "language_info": {
   "codemirror_mode": {
    "name": "ipython",
    "version": 3
   },
   "file_extension": ".py",
   "mimetype": "text/x-python",
   "name": "python",
   "nbconvert_exporter": "python",
   "pygments_lexer": "ipython3",
   "version": "3.11.2"
  }
 },
 "nbformat": 4,
 "nbformat_minor": 5
}
