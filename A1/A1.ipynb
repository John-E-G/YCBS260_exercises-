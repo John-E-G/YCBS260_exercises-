{
 "cells": [
  {
   "cell_type": "markdown",
   "id": "4410241d-76dd-4c8a-8ef2-a4d093bf54ba",
   "metadata": {},
   "source": [
    "# Assignment 1"
   ]
  },
  {
   "cell_type": "code",
   "execution_count": 1,
   "id": "a430690b-ef7e-4565-8065-a1ab12d4c9f8",
   "metadata": {},
   "outputs": [
    {
     "name": "stdout",
     "output_type": "stream",
     "text": [
      "5 1 A\n"
     ]
    }
   ],
   "source": [
    "target_row = 10\n",
    "target_column = 7\n",
    "target_part = \"A\"\n",
    "print(f\"{target_row} {target_column} {target_part}\")"
   ]
  },
  {
   "cell_type": "code",
   "execution_count": 2,
   "id": "3e3cc600-4190-417a-94fa-9eb378caad14",
   "metadata": {},
   "outputs": [],
   "source": [
    "import pandas as pd\n",
    "import math\n",
    "from scipy import stats"
   ]
  },
  {
   "cell_type": "code",
   "execution_count": 3,
   "id": "13e45728-154d-436b-b785-370e80b801b6",
   "metadata": {},
   "outputs": [],
   "source": [
    "xls = pd.ExcelFile('Lab 1 Data.xlsx')"
   ]
  },
  {
   "cell_type": "code",
   "execution_count": 4,
   "id": "f4a70e0b-3a45-4457-8562-0f69a37be8f9",
   "metadata": {},
   "outputs": [],
   "source": [
    "xlsx_rand_num = pd.read_excel(xls, 'Random Number Table', header=0, names=['Row', 'Column', 'Rand', 'A', 'B', 'C'])"
   ]
  },
  {
   "cell_type": "code",
   "execution_count": 5,
   "id": "04bc3996-bf87-441b-9880-00df2c770147",
   "metadata": {},
   "outputs": [],
   "source": [
    "xlsx_population = pd.read_excel(xls, 'Population', header=None, names=['ID', 'Gender', 'Score'])"
   ]
  },
  {
   "cell_type": "code",
   "execution_count": 6,
   "id": "05ded447-858e-4b97-915e-f159ec974d18",
   "metadata": {},
   "outputs": [],
   "source": [
    "indexed_data = pd.merge(left=xlsx_rand_num, right=xlsx_population, left_on=target_part, right_on=\"ID\")"
   ]
  },
  {
   "cell_type": "code",
   "execution_count": 7,
   "id": "4fb82668-9fb1-472d-89a5-0d4fc86cddc8",
   "metadata": {},
   "outputs": [],
   "source": [
    "data = indexed_data.loc[((indexed_data['Row'] == target_row) & (indexed_data['Column'] == target_column)).idxmax():] \\\n",
    "    .drop_duplicates(subset=[\"Gender\", \"Score\"]).head(60)"
   ]
  },
  {
   "cell_type": "code",
   "execution_count": 8,
   "id": "fca95433-d57a-4f64-867b-c6f8c4d5cc4d",
   "metadata": {},
   "outputs": [],
   "source": [
    "c,m,s = data['Score'].describe()[0:3]"
   ]
  },
  {
   "cell_type": "code",
   "execution_count": 9,
   "id": "c88adfa2-f73f-4506-a295-4e82751741cd",
   "metadata": {},
   "outputs": [],
   "source": [
    "ci1_high = m + 1.96 * s / math.sqrt(c)\n",
    "ci1_low = m - 1.96 * s / math.sqrt(c)"
   ]
  },
  {
   "cell_type": "markdown",
   "id": "264e63d5-1dd6-4ddc-9c3c-b95b798df7c7",
   "metadata": {},
   "source": [
    "### 95% CI for all values."
   ]
  },
  {
   "cell_type": "code",
   "execution_count": 10,
   "id": "d9505f19-16c1-4103-8e60-1b0bffa7adcc",
   "metadata": {},
   "outputs": [
    {
     "name": "stdout",
     "output_type": "stream",
     "text": [
      "Count=60.00, Mean=50.74, SD=9.24, Int-High=53.08, Int-Low=48.40\n"
     ]
    }
   ],
   "source": [
    "print(f\"Count={c:.2f}, Mean={m:.2f}, SD={s:.2f}, Int-High={ci1_high:.2f}, Int-Low={ci1_low:.2f}\")"
   ]
  },
  {
   "cell_type": "markdown",
   "id": "21590198-2b62-4566-a672-f4808746d835",
   "metadata": {},
   "source": [
    "### 90% CI for Male and Female (note the DF changes per group)"
   ]
  },
  {
   "cell_type": "code",
   "execution_count": 11,
   "id": "71ef9abf-ec1b-4f3e-b75b-eb9bde722bfd",
   "metadata": {},
   "outputs": [],
   "source": [
    "data_agg = data.groupby('Gender')['Score'].agg([\"count\", \"mean\", \"std\", \"sem\"]).reset_index()"
   ]
  },
  {
   "cell_type": "code",
   "execution_count": 12,
   "id": "e2fa0e00-031d-4bb5-8624-3cd95a0ad767",
   "metadata": {},
   "outputs": [],
   "source": [
    "ci95_hi = []\n",
    "ci95_low = []"
   ]
  },
  {
   "cell_type": "code",
   "execution_count": null,
   "id": "b4b2cbeb-79bc-48d4-a120-56f43e68d86d",
   "metadata": {},
   "outputs": [],
   "source": []
  },
  {
   "cell_type": "code",
   "execution_count": 13,
   "id": "746446a9-03f7-4896-b126-3f1becb0f09c",
   "metadata": {},
   "outputs": [],
   "source": [
    "#1.706 = t @ df 26\n",
    "for i in data_agg.index:\n",
    "    g, c, m, s, se = data_agg.loc[i]\n",
    "    ci95_hi.append(m + stats.t.ppf(1-.05, c) * s / math.sqrt(c))\n",
    "    ci95_low.append(m - stats.t.ppf(1-.05, c) * s / math.sqrt(c))"
   ]
  },
  {
   "cell_type": "code",
   "execution_count": 14,
   "id": "f43acc1f-3c52-4bdc-8f00-9c66ac8d7cb2",
   "metadata": {},
   "outputs": [],
   "source": [
    "data_agg['ci95_low'] = ci95_low\n",
    "data_agg['ci95_hi'] = ci95_hi"
   ]
  },
  {
   "cell_type": "code",
   "execution_count": 15,
   "id": "f03c5f3d-1279-4c78-a609-dffdce8e8d41",
   "metadata": {},
   "outputs": [
    {
     "data": {
      "text/html": [
       "<div>\n",
       "<style scoped>\n",
       "    .dataframe tbody tr th:only-of-type {\n",
       "        vertical-align: middle;\n",
       "    }\n",
       "\n",
       "    .dataframe tbody tr th {\n",
       "        vertical-align: top;\n",
       "    }\n",
       "\n",
       "    .dataframe thead th {\n",
       "        text-align: right;\n",
       "    }\n",
       "</style>\n",
       "<table border=\"1\" class=\"dataframe\">\n",
       "  <thead>\n",
       "    <tr style=\"text-align: right;\">\n",
       "      <th></th>\n",
       "      <th>Gender</th>\n",
       "      <th>count</th>\n",
       "      <th>mean</th>\n",
       "      <th>std</th>\n",
       "      <th>sem</th>\n",
       "      <th>ci95_low</th>\n",
       "      <th>ci95_hi</th>\n",
       "    </tr>\n",
       "  </thead>\n",
       "  <tbody>\n",
       "    <tr>\n",
       "      <th>0</th>\n",
       "      <td>F</td>\n",
       "      <td>27</td>\n",
       "      <td>51.292593</td>\n",
       "      <td>9.484235</td>\n",
       "      <td>1.825242</td>\n",
       "      <td>48.183679</td>\n",
       "      <td>54.401506</td>\n",
       "    </tr>\n",
       "    <tr>\n",
       "      <th>1</th>\n",
       "      <td>M</td>\n",
       "      <td>33</td>\n",
       "      <td>50.287879</td>\n",
       "      <td>9.166336</td>\n",
       "      <td>1.595654</td>\n",
       "      <td>47.587457</td>\n",
       "      <td>52.988301</td>\n",
       "    </tr>\n",
       "  </tbody>\n",
       "</table>\n",
       "</div>"
      ],
      "text/plain": [
       "  Gender  count       mean       std       sem   ci95_low    ci95_hi\n",
       "0      F     27  51.292593  9.484235  1.825242  48.183679  54.401506\n",
       "1      M     33  50.287879  9.166336  1.595654  47.587457  52.988301"
      ]
     },
     "execution_count": 15,
     "metadata": {},
     "output_type": "execute_result"
    }
   ],
   "source": [
    "data_agg"
   ]
  },
  {
   "cell_type": "markdown",
   "id": "1a75b39a-fecf-42ef-a1f2-c0f1f9647598",
   "metadata": {},
   "source": [
    "### 99% CI for proportion of females out of 60."
   ]
  },
  {
   "cell_type": "code",
   "execution_count": 16,
   "id": "0e0ac785-83a0-4c17-886e-a66bedabff1c",
   "metadata": {},
   "outputs": [],
   "source": [
    "female_count = data_agg.query(\"Gender == 'F'\")['count'].sum()\n",
    "total_count = data.shape[0]\n",
    "p = female_count / total_count"
   ]
  },
  {
   "cell_type": "code",
   "execution_count": 17,
   "id": "9dbd24b7-b126-460e-a944-16bfeb120226",
   "metadata": {},
   "outputs": [
    {
     "data": {
      "text/plain": [
       "np.float64(0.45)"
      ]
     },
     "execution_count": 17,
     "metadata": {},
     "output_type": "execute_result"
    }
   ],
   "source": [
    "p"
   ]
  },
  {
   "cell_type": "code",
   "execution_count": 18,
   "id": "9c6a02be-7cf9-4260-9e58-5eb672c9dc53",
   "metadata": {},
   "outputs": [],
   "source": [
    "se = math.sqrt(p * (1-p)/60)"
   ]
  },
  {
   "cell_type": "code",
   "execution_count": 19,
   "id": "ec6bcb5e-4e5c-4868-8474-5f3319e8cb59",
   "metadata": {},
   "outputs": [],
   "source": [
    "p_ci_low = p - 2.576 * se  # 2.576 is z @ 99%"
   ]
  },
  {
   "cell_type": "code",
   "execution_count": 20,
   "id": "3c1cfdf4-6960-413e-9294-67daa089e7f0",
   "metadata": {},
   "outputs": [],
   "source": [
    "p_ci_high = p + 2.576 * se"
   ]
  },
  {
   "cell_type": "code",
   "execution_count": 21,
   "id": "bfd596e1-24b7-4516-8350-7ba8c97cb449",
   "metadata": {},
   "outputs": [
    {
     "data": {
      "text/plain": [
       "(np.float64(0.2845534043867931), np.float64(0.6154465956132069))"
      ]
     },
     "execution_count": 21,
     "metadata": {},
     "output_type": "execute_result"
    }
   ],
   "source": [
    "p_ci_low, p_ci_high"
   ]
  },
  {
   "cell_type": "code",
   "execution_count": null,
   "id": "a2e7dab4-e57f-493f-9e29-fb8414a8c277",
   "metadata": {},
   "outputs": [],
   "source": []
  }
 ],
 "metadata": {
  "kernelspec": {
   "display_name": "Python 3 (ipykernel)",
   "language": "python",
   "name": "python3"
  },
  "language_info": {
   "codemirror_mode": {
    "name": "ipython",
    "version": 3
   },
   "file_extension": ".py",
   "mimetype": "text/x-python",
   "name": "python",
   "nbconvert_exporter": "python",
   "pygments_lexer": "ipython3",
   "version": "3.11.2"
  }
 },
 "nbformat": 4,
 "nbformat_minor": 5
}
