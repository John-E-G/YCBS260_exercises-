{
 "cells": [
  {
   "cell_type": "code",
   "execution_count": 1,
   "id": "aedbf4d4-d541-479c-813c-6d2bf4ae13df",
   "metadata": {},
   "outputs": [],
   "source": [
    "import math"
   ]
  },
  {
   "cell_type": "code",
   "execution_count": 2,
   "id": "8643179b-f069-4e6b-816a-42d53dddfe0b",
   "metadata": {},
   "outputs": [],
   "source": [
    "import numpy as np"
   ]
  },
  {
   "cell_type": "code",
   "execution_count": 3,
   "id": "af2f260c-3aaf-4ae3-bf01-0464cb60e837",
   "metadata": {},
   "outputs": [],
   "source": [
    "from scipy import stats"
   ]
  },
  {
   "cell_type": "code",
   "execution_count": 4,
   "id": "c1823f8b-6fac-46b5-9669-29172837bab7",
   "metadata": {},
   "outputs": [],
   "source": [
    "from stats_utils import *"
   ]
  },
  {
   "cell_type": "code",
   "execution_count": 5,
   "id": "44dceb6c-f8b3-459b-adc0-8f0db59248f3",
   "metadata": {},
   "outputs": [],
   "source": [
    "def calculate_t_value(d_bar, n, s_d):\n",
    "    # Calculate the standard error\n",
    "    standard_error = s_d / np.sqrt(n)\n",
    "    \n",
    "    # Calculate the t-value\n",
    "    t_value = d_bar / standard_error\n",
    "    return t_value"
   ]
  },
  {
   "cell_type": "code",
   "execution_count": 6,
   "id": "11ae3104-c2de-42c1-8ec7-c89cbfddbad0",
   "metadata": {},
   "outputs": [],
   "source": [
    "current_year_list = [345, 526, 420, 216, 285, 405, 635, 710, 605, 517, 570, 610]"
   ]
  },
  {
   "cell_type": "code",
   "execution_count": 7,
   "id": "fee68590-1d55-46b2-ba2b-6acbb2bfdcb8",
   "metadata": {},
   "outputs": [],
   "source": [
    "previous_year_list = [315, 463, 462, 206, 275, 432, 585, 650, 545, 547, 508, 580]"
   ]
  },
  {
   "cell_type": "code",
   "execution_count": 8,
   "id": "a148d32f-3539-4997-b427-1595dd294cf9",
   "metadata": {},
   "outputs": [],
   "source": [
    "n = len(current_year_list)"
   ]
  },
  {
   "cell_type": "code",
   "execution_count": 9,
   "id": "bfb26e20-1a3e-4647-a199-9f5be0c42a49",
   "metadata": {},
   "outputs": [],
   "source": [
    "df = n -1"
   ]
  },
  {
   "cell_type": "code",
   "execution_count": 10,
   "id": "a080ea1f-b3d7-4009-a7e8-cdfc1b70f118",
   "metadata": {},
   "outputs": [],
   "source": [
    "d_bar = sum(x - y for x, y in zip(current_year_list, previous_year_list))/ n"
   ]
  },
  {
   "cell_type": "code",
   "execution_count": 11,
   "id": "a5f6f99e-97bc-4fc3-aac4-b660920fbe62",
   "metadata": {},
   "outputs": [],
   "source": [
    "s_d = math.sqrt((sum(((x - y) - d_bar) ** 2 for x, y in zip(current_year_list, previous_year_list)) / (n-1)))"
   ]
  },
  {
   "cell_type": "code",
   "execution_count": 12,
   "id": "7bc4b589-feef-4ffa-b804-0c017be311d4",
   "metadata": {},
   "outputs": [],
   "source": [
    "a = .05"
   ]
  },
  {
   "cell_type": "code",
   "execution_count": 13,
   "id": "6e7db8e7-6f70-4144-b572-430f00009812",
   "metadata": {},
   "outputs": [
    {
     "name": "stdout",
     "output_type": "stream",
     "text": [
      "T-value: 2.0536\n",
      "T-value (conf): 2.2010\n",
      "P-value: 0.0323\n",
      "P-value (conf): 0.0500\n"
     ]
    }
   ],
   "source": [
    "t_value = calculate_t_value(d_bar, n, s_d)\n",
    "print(f\"T-value: {t_value:.4f}\")\n",
    "\n",
    "# Calculate the t-value for a two-tailed test\n",
    "t_value_conf = stats.t.ppf(1-a/2, df)\n",
    "print(f\"T-value (conf): {t_value_conf:.4f}\")\n",
    "\n",
    "p_value = stats.t.sf(abs(t_value), df)\n",
    "print(f\"P-value: {p_value:.4f}\")\n",
    "\n",
    "print(f\"P-value (conf): {a:.4f}\")"
   ]
  },
  {
   "cell_type": "markdown",
   "id": "e4e3f835-7803-4392-8ed5-820962f712ef",
   "metadata": {},
   "source": [
    "### Test using probability values"
   ]
  },
  {
   "cell_type": "code",
   "execution_count": 14,
   "id": "35b30a55-4ec4-4d25-9fdd-d5bd48ec9d63",
   "metadata": {},
   "outputs": [
    {
     "name": "stdout",
     "output_type": "stream",
     "text": [
      "Using alpha 0.050 and probability value 0.032, we reject the null hypothesis.\n"
     ]
    }
   ],
   "source": [
    "perform_hyp_test_probability_verbose(a, p_value)"
   ]
  },
  {
   "cell_type": "markdown",
   "id": "6903b866-0db6-4452-bc0a-ea6f508341ff",
   "metadata": {},
   "source": [
    "### Test using t values"
   ]
  },
  {
   "cell_type": "code",
   "execution_count": 15,
   "id": "bf1f8c48-2d6e-42bb-ac8a-d7fdcabe674c",
   "metadata": {},
   "outputs": [
    {
     "name": "stdout",
     "output_type": "stream",
     "text": [
      "Using the t values, alpha 2.201 and t value 2.054, we fail to reject the null hypothesis.\n"
     ]
    }
   ],
   "source": [
    "perform_hyp_test_t_verbose(t_value_conf, t_value)"
   ]
  },
  {
   "cell_type": "code",
   "execution_count": null,
   "id": "61069469-a7d5-4c9b-879d-7f5a50386e0d",
   "metadata": {},
   "outputs": [],
   "source": []
  }
 ],
 "metadata": {
  "kernelspec": {
   "display_name": "Python 3 (ipykernel)",
   "language": "python",
   "name": "python3"
  },
  "language_info": {
   "codemirror_mode": {
    "name": "ipython",
    "version": 3
   },
   "file_extension": ".py",
   "mimetype": "text/x-python",
   "name": "python",
   "nbconvert_exporter": "python",
   "pygments_lexer": "ipython3",
   "version": "3.11.2"
  }
 },
 "nbformat": 4,
 "nbformat_minor": 5
}
