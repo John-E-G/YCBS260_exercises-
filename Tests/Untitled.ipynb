{
 "cells": [
  {
   "cell_type": "code",
   "execution_count": 1,
   "id": "47aba71f-4548-464f-8e5b-f850c57fe339",
   "metadata": {},
   "outputs": [],
   "source": [
    "# First, let's import all the needed libraries.\n",
    "import numpy as np\n",
    "import matplotlib.pyplot as plt\n",
    "import scipy.stats as stats"
   ]
  },
  {
   "cell_type": "code",
   "execution_count": 2,
   "id": "5f7ddd8b-fc39-4513-b477-444bb1cf1e8b",
   "metadata": {},
   "outputs": [
    {
     "ename": "NameError",
     "evalue": "name 'plot' is not defined",
     "output_type": "error",
     "traceback": [
      "\u001b[0;31m---------------------------------------------------------------------------\u001b[0m",
      "\u001b[0;31mNameError\u001b[0m                                 Traceback (most recent call last)",
      "Cell \u001b[0;32mIn[2], line 3\u001b[0m\n\u001b[1;32m      1\u001b[0m fig, ax \u001b[38;5;241m=\u001b[39m plt\u001b[38;5;241m.\u001b[39msubplots(figsize\u001b[38;5;241m=\u001b[39m(\u001b[38;5;241m8\u001b[39m, \u001b[38;5;241m5\u001b[39m))\n\u001b[0;32m----> 3\u001b[0m \u001b[43mplot\u001b[49m(ax)\n\u001b[1;32m      5\u001b[0m pvalue \u001b[38;5;241m=\u001b[39m dist\u001b[38;5;241m.\u001b[39msf(res\u001b[38;5;241m.\u001b[39mstatistic)\n\u001b[1;32m      7\u001b[0m annotation \u001b[38;5;241m=\u001b[39m (\u001b[38;5;124mf\u001b[39m\u001b[38;5;124m'\u001b[39m\u001b[38;5;124mp-value=\u001b[39m\u001b[38;5;132;01m{\u001b[39;00mpvalue\u001b[38;5;132;01m:\u001b[39;00m\u001b[38;5;124m.6f\u001b[39m\u001b[38;5;132;01m}\u001b[39;00m\u001b[38;5;130;01m\\n\u001b[39;00m\u001b[38;5;124m(shaded area)\u001b[39m\u001b[38;5;124m'\u001b[39m)\n",
      "\u001b[0;31mNameError\u001b[0m: name 'plot' is not defined"
     ]
    },
    {
     "data": {
      "image/png": "[encoded data removed]",
      "text/plain": [
       "<Figure size 800x500 with 1 Axes>"
      ]
     },
     "metadata": {},
     "output_type": "display_data"
    }
   ],
   "source": [
    "fig, ax = plt.subplots(figsize=(8, 5))\n",
    "\n",
    "plot(ax)\n",
    "\n",
    "pvalue = dist.sf(res.statistic)\n",
    "\n",
    "annotation = (f'p-value={pvalue:.6f}\\n(shaded area)')\n",
    "\n",
    "props = dict(facecolor='black', width=1, headwidth=5, headlength=8)\n",
    "\n",
    "_ = ax.annotate(annotation, (13.5, 5e-4), (14, 5e-3), arrowprops=props)\n",
    "\n",
    "i = stat_vals >= res.statistic  # index more extreme statistic values\n",
    "\n",
    "ax.fill_between(stat_vals[i], y1=0, y2=pdf[i])\n",
    "\n",
    "ax.set_xlim(8, 16)\n",
    "\n",
    "ax.set_ylim(0, 0.01)\n",
    "\n",
    "plt.show()"
   ]
  },
  {
   "cell_type": "code",
   "execution_count": null,
   "id": "e9a12651-4d00-4840-b318-92641291c87c",
   "metadata": {},
   "outputs": [],
   "source": []
  },
  {
   "cell_type": "code",
   "execution_count": null,
   "id": "2a310550-9dc5-4541-bc83-994f6769b576",
   "metadata": {},
   "outputs": [],
   "source": []
  }
 ],
 "metadata": {
  "kernelspec": {
   "display_name": "Python 3 (ipykernel)",
   "language": "python",
   "name": "python3"
  },
  "language_info": {
   "codemirror_mode": {
    "name": "ipython",
    "version": 3
   },
   "file_extension": ".py",
   "mimetype": "text/x-python",
   "name": "python",
   "nbconvert_exporter": "python",
   "pygments_lexer": "ipython3",
   "version": "3.11.2"
  }
 },
 "nbformat": 4,
 "nbformat_minor": 5
}
